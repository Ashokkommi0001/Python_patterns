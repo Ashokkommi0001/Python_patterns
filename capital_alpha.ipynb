{
 "cells": [
  {
   "cell_type": "code",
   "execution_count": 20,
   "id": "thirty-toolbox",
   "metadata": {},
   "outputs": [
    {
     "name": "stdout",
     "output_type": "stream",
     "text": [
      "  * * *   \n",
      "*       * \n",
      "*       * \n",
      "* * * * * \n",
      "*       * \n",
      "*       * \n",
      "*       * \n"
     ]
    }
   ],
   "source": [
    "def A():\n",
    "    for i in range(7):\n",
    "        for j in range(5):\n",
    "            if ((j==0 or j==4) and i!=0) or (j>0 and j<4) and (i==0 or i==3):\n",
    "                print(\"*\",end=\" \")\n",
    "            else:\n",
    "                print(end=\"  \")\n",
    "        print()\n",
    "A()"
   ]
  },
  {
   "cell_type": "code",
   "execution_count": 21,
   "id": "traditional-youth",
   "metadata": {},
   "outputs": [
    {
     "name": "stdout",
     "output_type": "stream",
     "text": [
      "* * * * *   \n",
      "*         * \n",
      "*         * \n",
      "* * * * *   \n",
      "*         * \n",
      "*         * \n",
      "* * * * *   \n"
     ]
    }
   ],
   "source": [
    "def B():\n",
    "    for row in range(7):\n",
    "        for col in range(6):\n",
    "            if col==0 or (row%3==0 and col<5) or (col==5 and row%3!=0):\n",
    "                print(\"*\",end=\" \")\n",
    "            else:\n",
    "                print(end=\"  \")\n",
    "        print()\n",
    "B()"
   ]
  },
  {
   "cell_type": "code",
   "execution_count": 22,
   "id": "animal-findings",
   "metadata": {},
   "outputs": [
    {
     "name": "stdout",
     "output_type": "stream",
     "text": [
      "  * * * * \n",
      "*         \n",
      "*         \n",
      "*         \n",
      "*         \n",
      "*         \n",
      "  * * * * \n"
     ]
    }
   ],
   "source": [
    "def C():\n",
    "    for i in range(7):\n",
    "        for j in range(5):\n",
    "            if (j==0 and (i!=0 and i!=6))  or ((i==0 or i==6) and (j>0)):\n",
    "                print(\"*\",end=\" \")\n",
    "            else:\n",
    "                print(end=\"  \")\n",
    "        print()\n",
    "C()"
   ]
  },
  {
   "cell_type": "code",
   "execution_count": 23,
   "id": "massive-preparation",
   "metadata": {},
   "outputs": [
    {
     "name": "stdout",
     "output_type": "stream",
     "text": [
      "* * * *   \n",
      "*       * \n",
      "*       * \n",
      "*       * \n",
      "*       * \n",
      "*       * \n",
      "* * * *   \n"
     ]
    }
   ],
   "source": [
    "def D():\n",
    "    for row in range(7):\n",
    "        for col in range(5):\n",
    "            if (col==0) or (col==4 and (row!=0 and row!=6)) or (row==0 or row==6)  and (col>0 and col<4):\n",
    "                print(\"*\",end=\" \")\n",
    "            else:\n",
    "                print(end=\"  \")\n",
    "        print()\n",
    "D()"
   ]
  },
  {
   "cell_type": "code",
   "execution_count": 24,
   "id": "stunning-modeling",
   "metadata": {},
   "outputs": [
    {
     "name": "stdout",
     "output_type": "stream",
     "text": [
      "* * * * * \n",
      "*         \n",
      "*         \n",
      "* * * * * \n",
      "*         \n",
      "*         \n",
      "* * * * * \n"
     ]
    }
   ],
   "source": [
    "def E():\n",
    "    for row in range(7):\n",
    "        for col in range(5):\n",
    "            if (col==0 ) or (row==0 or row==3 or row==6):\n",
    "                print(\"*\",end=\" \")\n",
    "            else:\n",
    "                print(end=\"  \")\n",
    "        print()\n",
    "E()"
   ]
  },
  {
   "cell_type": "code",
   "execution_count": 25,
   "id": "nominated-pressure",
   "metadata": {},
   "outputs": [
    {
     "name": "stdout",
     "output_type": "stream",
     "text": [
      "* * * * * \n",
      "*         \n",
      "*         \n",
      "* * * * * \n",
      "*         \n",
      "*         \n",
      "*         \n"
     ]
    }
   ],
   "source": [
    "def F():\n",
    "    for row in range(7):\n",
    "        for col in range(5):\n",
    "            if (col==0) or (row==0 or row==3):\n",
    "                print(\"*\",end=\" \")\n",
    "            else:\n",
    "                print(end=\"  \")\n",
    "        print()\n",
    "F()"
   ]
  },
  {
   "cell_type": "code",
   "execution_count": 26,
   "id": "portuguese-invasion",
   "metadata": {},
   "outputs": [
    {
     "name": "stdout",
     "output_type": "stream",
     "text": [
      "  * * * * \n",
      "*         \n",
      "*         \n",
      "*   * * * \n",
      "*       * \n",
      "*       * \n",
      "  * * * * \n"
     ]
    }
   ],
   "source": [
    "def G():\n",
    "    for row in range(7):\n",
    "        for col in range(5):\n",
    "            if (col==0 and (row!=0 and row!=6))  or ((row==0 or row==6) and (col>0)) or (row==3 and col>1) or (row>3 and col==4):\n",
    "                print(\"*\",end=\" \")\n",
    "            else:\n",
    "                print(end=\"  \")\n",
    "        print()\n",
    "G()"
   ]
  },
  {
   "cell_type": "code",
   "execution_count": 27,
   "id": "pressed-fraud",
   "metadata": {},
   "outputs": [
    {
     "name": "stdout",
     "output_type": "stream",
     "text": [
      "*       * \n",
      "*       * \n",
      "*       * \n",
      "* * * * * \n",
      "*       * \n",
      "*       * \n",
      "*       * \n"
     ]
    }
   ],
   "source": [
    "def H():\n",
    "    for row in range(7):\n",
    "        for col in range(5):\n",
    "            if col==0 or (col==4) or row==3:\n",
    "                print(\"*\",end=\" \")\n",
    "            else:\n",
    "                print(end=\"  \")\n",
    "        print()\n",
    "H()"
   ]
  },
  {
   "cell_type": "code",
   "execution_count": 28,
   "id": "expressed-cisco",
   "metadata": {},
   "outputs": [
    {
     "name": "stdout",
     "output_type": "stream",
     "text": [
      "* * * * * \n",
      "    *     \n",
      "    *     \n",
      "    *     \n",
      "    *     \n",
      "    *     \n",
      "* * * * * \n"
     ]
    }
   ],
   "source": [
    "def I():\n",
    "    for row in range(7):\n",
    "        for col in range(5):\n",
    "            if (col==2) or (row==0 or row==6):\n",
    "                print(\"*\",end=\" \")\n",
    "            else:\n",
    "                print(end=\"  \")\n",
    "        print()\n",
    "I()\n",
    "                "
   ]
  },
  {
   "cell_type": "code",
   "execution_count": 29,
   "id": "stuck-assistant",
   "metadata": {},
   "outputs": [
    {
     "name": "stdout",
     "output_type": "stream",
     "text": [
      "* * * * * \n",
      "    *     \n",
      "    *     \n",
      "    *     \n",
      "    *     \n",
      "    *     \n",
      "* * *     \n"
     ]
    }
   ],
   "source": [
    "def J():\n",
    "    for row in range(7):\n",
    "        for col in range(5):\n",
    "            if (col==2) or (row==0) or (row==6 and col<2):\n",
    "                print(\"*\",end=\" \")\n",
    "            else:\n",
    "                print(end=\"  \")\n",
    "        print()\n",
    "J()"
   ]
  },
  {
   "cell_type": "code",
   "execution_count": 30,
   "id": "increasing-trace",
   "metadata": {},
   "outputs": [
    {
     "name": "stdout",
     "output_type": "stream",
     "text": [
      "*       * \n",
      "*     *   \n",
      "*   *     \n",
      "* *       \n",
      "*   *     \n",
      "*     *   \n",
      "*       * \n"
     ]
    }
   ],
   "source": [
    "def K():\n",
    "    for row in range(7):\n",
    "        for col in range(5):\n",
    "            if (col==0) or (row+col==4 or row-col==2):\n",
    "                print(\"*\",end=\" \")\n",
    "            else:\n",
    "                print(end=\"  \")\n",
    "        print()\n",
    "K()"
   ]
  },
  {
   "cell_type": "code",
   "execution_count": 31,
   "id": "entertaining-livestock",
   "metadata": {},
   "outputs": [
    {
     "name": "stdout",
     "output_type": "stream",
     "text": [
      "*         \n",
      "*         \n",
      "*         \n",
      "*         \n",
      "*         \n",
      "*         \n",
      "* * * * * \n"
     ]
    }
   ],
   "source": [
    "def L():\n",
    "    for row in range(7):\n",
    "        for col in range(5):\n",
    "            if (col==0 or row==6):\n",
    "                print(\"*\",end=\" \")\n",
    "            else:\n",
    "                print(end=\"  \")\n",
    "        print()\n",
    "L()"
   ]
  },
  {
   "cell_type": "code",
   "execution_count": 32,
   "id": "boolean-fence",
   "metadata": {},
   "outputs": [
    {
     "name": "stdout",
     "output_type": "stream",
     "text": [
      "*           *  \n",
      "*  *     *  *  \n",
      "*     *     *  \n",
      "*           *  \n",
      "*           *  \n",
      "*           *  \n"
     ]
    }
   ],
   "source": [
    "def M():\n",
    "    for row in range(6):\n",
    "        for col in range(5):\n",
    "            if (col==0 or col==4) or (row<3 and (row-col==0 or row+col==4)):\n",
    "                print(\"*\",end=\"  \")\n",
    "            else:\n",
    "                print(end=\"   \")\n",
    "        print()\n",
    "M()"
   ]
  },
  {
   "cell_type": "code",
   "execution_count": 33,
   "id": "tired-haven",
   "metadata": {},
   "outputs": [
    {
     "name": "stdout",
     "output_type": "stream",
     "text": [
      "*                 *  \n",
      "*  *              *  \n",
      "*     *           *  \n",
      "*        *        *  \n",
      "*           *     *  \n",
      "*              *  *  \n",
      "*                 *  \n"
     ]
    }
   ],
   "source": [
    "def N():\n",
    "    for row in range(7):\n",
    "        for col in range(7):\n",
    "            if (col==0 or col==6) or row-col==0:\n",
    "                print(\"*\",end=\"  \")\n",
    "            else:\n",
    "                print(end=\"   \")\n",
    "        print()\n",
    "N()"
   ]
  },
  {
   "cell_type": "code",
   "execution_count": 34,
   "id": "exposed-importance",
   "metadata": {},
   "outputs": [
    {
     "name": "stdout",
     "output_type": "stream",
     "text": [
      "  * * *   \n",
      "*       * \n",
      "*       * \n",
      "*       * \n",
      "*       * \n",
      "*       * \n",
      "  * * *   \n"
     ]
    }
   ],
   "source": [
    "def O():\n",
    "    for row in range(7):\n",
    "        for col in range(5):\n",
    "            if ((col==0 or col==4) and (row!=0 and row!=6)) or (col>0 and col<4) and (row==0 or row==6):\n",
    "                print(\"*\",end=\" \")\n",
    "            else:\n",
    "                print(end=\"  \")\n",
    "        print()\n",
    "O()"
   ]
  },
  {
   "cell_type": "code",
   "execution_count": 35,
   "id": "basic-response",
   "metadata": {},
   "outputs": [
    {
     "name": "stdout",
     "output_type": "stream",
     "text": [
      "* * * * *   \n",
      "*         * \n",
      "*         * \n",
      "* * * * *   \n",
      "*           \n",
      "*           \n",
      "*           \n"
     ]
    }
   ],
   "source": [
    "def P():\n",
    "    for row in range(7):\n",
    "        for col in range(6):\n",
    "            if col==0 or (row%3==0 and col<5 and row<6) or (col==5 and row%3!=0 and row<3):\n",
    "                print(\"*\",end=\" \")\n",
    "            else:\n",
    "                print(end=\"  \")\n",
    "        print()\n",
    "P()"
   ]
  },
  {
   "cell_type": "code",
   "execution_count": 36,
   "id": "eight-lithuania",
   "metadata": {},
   "outputs": [
    {
     "name": "stdout",
     "output_type": "stream",
     "text": [
      "  * * *     \n",
      "*       *   \n",
      "*       *   \n",
      "*   *   *   \n",
      "*     * *   \n",
      "*       *   \n",
      "  * * *   * \n"
     ]
    }
   ],
   "source": [
    "def Q():\n",
    "    for row in range(7):\n",
    "        for col in range(6):\n",
    "            if ((col==0 or col==4) and (row!=0 and row!=6)) or (col>0 and col<4) and (row==0 or row==6) or (row>2 and row-col==1):\n",
    "                print(\"*\",end=\" \")\n",
    "            else:\n",
    "                print(end=\"  \")\n",
    "        print()\n",
    "Q()"
   ]
  },
  {
   "cell_type": "code",
   "execution_count": 37,
   "id": "vocational-execution",
   "metadata": {},
   "outputs": [
    {
     "name": "stdout",
     "output_type": "stream",
     "text": [
      "* * * *   \n",
      "*       * \n",
      "*       * \n",
      "* * * *   \n",
      "*   *     \n",
      "*     *   \n",
      "*       * \n"
     ]
    }
   ],
   "source": [
    "def R():\n",
    "    for row in range(7):\n",
    "        for col in range(5):\n",
    "            if col==0 or (col==4 and (row==1 or row==2)) or ((row==0 or row==3) and (col>0 and col<4)) or (row>2 and row-col==2):\n",
    "                print(\"*\",end=\" \")\n",
    "            else:\n",
    "                print(end=\"  \")\n",
    "        print()\n",
    "R()"
   ]
  },
  {
   "cell_type": "code",
   "execution_count": 38,
   "id": "annoying-thesaurus",
   "metadata": {},
   "outputs": [
    {
     "name": "stdout",
     "output_type": "stream",
     "text": [
      "  * * *   \n",
      "*         \n",
      "*         \n",
      "  * * *   \n",
      "        * \n",
      "        * \n",
      "  * * *   \n"
     ]
    }
   ],
   "source": [
    "def S():\n",
    "    for row in range(7):\n",
    "        for col in range(5):\n",
    "            if (row==0 or row==3 or row==6) and (col>0 and col<4) or (col==0 and (row>0 and row<3)) or (col==4 and (row>3 and row<6)):\n",
    "                print(\"*\",end=\" \")\n",
    "            else:\n",
    "                print(end=\"  \")\n",
    "        print()\n",
    "S()"
   ]
  },
  {
   "cell_type": "code",
   "execution_count": 39,
   "id": "simple-taylor",
   "metadata": {},
   "outputs": [
    {
     "name": "stdout",
     "output_type": "stream",
     "text": [
      "* * * * * \n",
      "    *     \n",
      "    *     \n",
      "    *     \n",
      "    *     \n",
      "    *     \n"
     ]
    }
   ],
   "source": [
    "def T():\n",
    "    for row in range(6):\n",
    "        for col in range(5):\n",
    "            if (row==0 or col==2):\n",
    "                print(\"*\",end=\" \")\n",
    "            else:\n",
    "                print(end=\"  \")\n",
    "        print()\n",
    "T()"
   ]
  },
  {
   "cell_type": "code",
   "execution_count": 40,
   "id": "alternate-restaurant",
   "metadata": {},
   "outputs": [
    {
     "name": "stdout",
     "output_type": "stream",
     "text": [
      "*       * \n",
      "*       * \n",
      "*       * \n",
      "*       * \n",
      "*       * \n",
      "*       * \n",
      "  * * *   \n"
     ]
    }
   ],
   "source": [
    "def U():\n",
    "    for row in range(7):\n",
    "        for col in range(5):\n",
    "            if ((col==0 or col==4) and row<6) or (row==6 and col>0 and col<4):\n",
    "                print(\"*\",end=\" \")\n",
    "            else:\n",
    "                print(end=\"  \")\n",
    "        print()\n",
    "U()"
   ]
  },
  {
   "cell_type": "code",
   "execution_count": 41,
   "id": "preceding-placement",
   "metadata": {},
   "outputs": [
    {
     "name": "stdout",
     "output_type": "stream",
     "text": [
      "*             * \n",
      " *           *  \n",
      "  *         *   \n",
      "   *       *    \n",
      "    *     *     \n",
      "     *   *      \n",
      "      * *       \n",
      "       *        \n"
     ]
    }
   ],
   "source": [
    "def V():\n",
    "    for row in range(8):\n",
    "        for col in range(16):\n",
    "            if (row-col==0 or row+col==14):\n",
    "                print(\"*\",end=\"\")\n",
    "            else:\n",
    "                print(end=\" \")\n",
    "        print()\n",
    "V()"
   ]
  },
  {
   "cell_type": "code",
   "execution_count": 42,
   "id": "pretty-jersey",
   "metadata": {},
   "outputs": [
    {
     "name": "stdout",
     "output_type": "stream",
     "text": [
      "*       * \n",
      "*       * \n",
      "*       * \n",
      "*   *   * \n",
      "* *   * * \n",
      "*       * \n"
     ]
    }
   ],
   "source": [
    "def W():\n",
    "    for row in range(6):\n",
    "        for col in range(5):\n",
    "            if (col==0 or col==4) or ( row>2 and (row+col==5 or row-col==1)):\n",
    "                print(\"*\",end=\" \")\n",
    "            else:\n",
    "                print(end=\"  \")\n",
    "        print()\n",
    "W()"
   ]
  },
  {
   "cell_type": "code",
   "execution_count": 43,
   "id": "postal-entrepreneur",
   "metadata": {},
   "outputs": [
    {
     "name": "stdout",
     "output_type": "stream",
     "text": [
      "*           * \n",
      "  *       *   \n",
      "    *   *     \n",
      "      *       \n",
      "    *   *     \n",
      "  *       *   \n",
      "*           * \n"
     ]
    }
   ],
   "source": [
    "def X():\n",
    "    for row in range(7):\n",
    "        for col in range(7):\n",
    "            if (row-col==0 or row+col==6):\n",
    "                print(\"*\",end=\" \")\n",
    "            else:\n",
    "                print(end=\"  \")\n",
    "        print()\n",
    "X()"
   ]
  },
  {
   "cell_type": "code",
   "execution_count": 44,
   "id": "subject-fence",
   "metadata": {},
   "outputs": [
    {
     "name": "stdout",
     "output_type": "stream",
     "text": [
      "*           * \n",
      "  *       *   \n",
      "    *   *     \n",
      "      *       \n",
      "      *       \n",
      "      *       \n",
      "      *       \n"
     ]
    }
   ],
   "source": [
    "def Y():\n",
    "    for row in range(7):\n",
    "        for col in range(7):\n",
    "            if (row-col==0 and row<3) or (row+col==6 and row<3) or (row>2 and col==3):\n",
    "                print(\"*\",end=\" \")\n",
    "            else:\n",
    "                print(end=\"  \")\n",
    "        print()\n",
    "Y()"
   ]
  },
  {
   "cell_type": "code",
   "execution_count": 45,
   "id": "existing-calcium",
   "metadata": {},
   "outputs": [
    {
     "name": "stdout",
     "output_type": "stream",
     "text": [
      "* * * * * * * \n",
      "          *   \n",
      "        *     \n",
      "      *       \n",
      "    *         \n",
      "  *           \n",
      "* * * * * * * \n"
     ]
    }
   ],
   "source": [
    "def Z():\n",
    "    for row in range(7):\n",
    "        for col in range(7):\n",
    "            if row==0 or row==6 or row+col==6 :\n",
    "                print(\"*\",end=\" \")\n",
    "            else:\n",
    "                print(end=\"  \")\n",
    "        print()\n",
    "Z()"
   ]
  }
 ],
 "metadata": {
  "kernelspec": {
   "display_name": "Python 3",
   "language": "python",
   "name": "python3"
  },
  "language_info": {
   "codemirror_mode": {
    "name": "ipython",
    "version": 3
   },
   "file_extension": ".py",
   "mimetype": "text/x-python",
   "name": "python",
   "nbconvert_exporter": "python",
   "pygments_lexer": "ipython3",
   "version": "3.9.0"
  }
 },
 "nbformat": 4,
 "nbformat_minor": 5
}
