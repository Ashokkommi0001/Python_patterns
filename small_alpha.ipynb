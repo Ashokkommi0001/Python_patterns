{
 "cells": [
  {
   "cell_type": "code",
   "execution_count": 1,
   "id": "institutional-interstate",
   "metadata": {},
   "outputs": [
    {
     "name": "stdout",
     "output_type": "stream",
     "text": [
      "  * * * *     \n",
      "*         *   \n",
      "          *   \n",
      "  * * * * *   \n",
      "*         *   \n",
      "*         *   \n",
      "  * * * * *   \n",
      "            * \n"
     ]
    }
   ],
   "source": [
    "def a():\n",
    "    for row in range(8):\n",
    "        for col in range(7):\n",
    "            if (row%3==0 and (col>0 and col<5)) or (col==5 and (row>0 and row<7)) or ((row==1 or row==4 or row==5) and col==0) or (row+col==13):\n",
    "                print(\"*\", end=\" \")\n",
    "            else:\n",
    "                print(\" \", end=\" \")\n",
    "        print()\n",
    "a()"
   ]
  },
  {
   "cell_type": "code",
   "execution_count": 2,
   "id": "personalized-fantasy",
   "metadata": {},
   "outputs": [
    {
     "name": "stdout",
     "output_type": "stream",
     "text": [
      "*           \n",
      "*           \n",
      "*           \n",
      "* * * * *   \n",
      "*         * \n",
      "*         * \n",
      "* * * * *   \n"
     ]
    }
   ],
   "source": [
    "def b():\n",
    "    for row in range(7):\n",
    "        for col in range(6):\n",
    "            if (col==0 ) or ((row==3 or row==6) and col<5) or (col==5 and (row>3 and row<6)):\n",
    "                print(\"*\", end=\" \")\n",
    "            else:\n",
    "                print(\" \", end=\" \")\n",
    "        print()\n",
    "b()"
   ]
  },
  {
   "cell_type": "code",
   "execution_count": 3,
   "id": "dress-aaron",
   "metadata": {},
   "outputs": [
    {
     "name": "stdout",
     "output_type": "stream",
     "text": [
      "  * * * * \n",
      "*         \n",
      "*         \n",
      "*         \n",
      "*         \n",
      "*         \n",
      "  * * * * \n"
     ]
    }
   ],
   "source": [
    "def c():\n",
    "    for row in range(7):\n",
    "        for col in range(5):\n",
    "            if (col==0 and (row!=0 and row!=6))  or ((row==0 or row==6) and (col>0)):\n",
    "                print(\"*\",end=\" \")\n",
    "            else:\n",
    "                print(end=\"  \")\n",
    "        print()\n",
    "c()\n",
    "    "
   ]
  },
  {
   "cell_type": "code",
   "execution_count": 4,
   "id": "julian-asset",
   "metadata": {},
   "outputs": [
    {
     "name": "stdout",
     "output_type": "stream",
     "text": [
      "          * \n",
      "          * \n",
      "          * \n",
      "  * * * * * \n",
      "*         * \n",
      "*         * \n",
      "  * * * * * \n"
     ]
    }
   ],
   "source": [
    "def d():\n",
    "    for row in range(7):\n",
    "        for col in range(6):\n",
    "            if (col==5 ) or ((row==3 or row==6) and col>0) or (col==0 and (row>3 and row<6)):\n",
    "                print(\"*\", end=\" \")\n",
    "            else:\n",
    "                print(\" \", end=\" \")\n",
    "        print()\n",
    "d()"
   ]
  },
  {
   "cell_type": "code",
   "execution_count": 5,
   "id": "excellent-drive",
   "metadata": {},
   "outputs": [
    {
     "name": "stdout",
     "output_type": "stream",
     "text": [
      "  * * *   \n",
      "*       * \n",
      "*       * \n",
      "* * * *   \n",
      "*         \n",
      "*         \n",
      "  * * *   \n"
     ]
    }
   ],
   "source": [
    "def e():\n",
    "    for row in range(7):\n",
    "        for col in range(5):\n",
    "            if (col==0 and (row!=0 and row!=6))  or ((row%3==0)  and (col>0 and col<4)) or (col==4 and (row>0 and row<=2)):\n",
    "                print(\"*\",end=\" \")\n",
    "            else:\n",
    "                print(end=\"  \")\n",
    "        print()\n",
    "e()"
   ]
  },
  {
   "cell_type": "code",
   "execution_count": 6,
   "id": "russian-retirement",
   "metadata": {},
   "outputs": [
    {
     "name": "stdout",
     "output_type": "stream",
     "text": [
      "        * *   \n",
      "      *     * \n",
      "      *       \n",
      "      *       \n",
      "      *       \n",
      "  * * * * *   \n",
      "      *       \n",
      "      *       \n"
     ]
    }
   ],
   "source": [
    "def f():\n",
    "    for row in range(8):\n",
    "        for col in range(7):\n",
    "            if (col==3 and row>0) or (row==5 and col>0 and col<6) or (row==0 and col>3 and col<6) or (col==6 and row==1):\n",
    "                print(\"*\",end=\" \")\n",
    "            else:\n",
    "                print(end=\"  \")\n",
    "        print()\n",
    "f()\n"
   ]
  },
  {
   "cell_type": "code",
   "execution_count": 7,
   "id": "legal-identity",
   "metadata": {},
   "outputs": [
    {
     "name": "stdout",
     "output_type": "stream",
     "text": [
      "  * * * * \n",
      "*       * \n",
      "*       * \n",
      "  * * * * \n",
      "        * \n",
      "*       * \n",
      "  * * *   \n"
     ]
    }
   ],
   "source": [
    "def g():\n",
    "    for row in range(7):\n",
    "        for col in range(5):\n",
    "            if (row%3==0) and (col>0 and col<4) or (col==0 and (row%3!=0 and row!=4)) or (col==4 and row<6):\n",
    "                print(\"*\",end=\" \")\n",
    "            else:\n",
    "                print(end=\"  \")\n",
    "        print()\n",
    "g()"
   ]
  },
  {
   "cell_type": "code",
   "execution_count": 8,
   "id": "imperial-alarm",
   "metadata": {},
   "outputs": [
    {
     "name": "stdout",
     "output_type": "stream",
     "text": [
      "*           \n",
      "*           \n",
      "*           \n",
      "* * * * *   \n",
      "*         * \n",
      "*         * \n",
      "*         * \n"
     ]
    }
   ],
   "source": [
    "def h():\n",
    "    for row in range(7):\n",
    "        for col in range(6):\n",
    "            if (col==0 ) or ((row==3) and col<5) or (col==5 and (row>3)):\n",
    "                print(\"*\", end=\" \")\n",
    "            else:\n",
    "                print(\" \", end=\" \")\n",
    "        print()\n",
    "h()"
   ]
  },
  {
   "cell_type": "code",
   "execution_count": 9,
   "id": "bright-cedar",
   "metadata": {},
   "outputs": [
    {
     "name": "stdout",
     "output_type": "stream",
     "text": [
      "   *   \n",
      "       \n",
      "   *   \n",
      "*  *   \n",
      "   *   \n",
      "   *   \n",
      "   *   \n",
      "   *   \n",
      "*******\n"
     ]
    }
   ],
   "source": [
    "def i():\n",
    "    for row in range(9):\n",
    "        for col in range(7):\n",
    "            if (col==3 or row==8) and row>1 or (row>2 and row+col==3) or row==0 and col==3 :\n",
    "                print(\"*\",end=\"\")\n",
    "            else:\n",
    "                print(end=\" \")\n",
    "        print()\n",
    "i()"
   ]
  },
  {
   "cell_type": "code",
   "execution_count": 10,
   "id": "requested-maple",
   "metadata": {},
   "outputs": [
    {
     "name": "stdout",
     "output_type": "stream",
     "text": [
      "      *   \n",
      "          \n",
      "    * *   \n",
      "      *   \n",
      "      *   \n",
      "*     *   \n",
      "  * *     \n"
     ]
    }
   ],
   "source": [
    "def j():\n",
    "    for row in range(7):\n",
    "        for col in range(5):\n",
    "            if (col==3 and row!=1 and row!=6) or (row==6 and col>0 and col<3) or (col==0 and row==5) or (row==col==2):\n",
    "                print(\"*\",end=\" \")\n",
    "            else:\n",
    "                print(end=\"  \")\n",
    "        print()\n",
    "j()"
   ]
  },
  {
   "cell_type": "code",
   "execution_count": 11,
   "id": "pacific-corruption",
   "metadata": {},
   "outputs": [
    {
     "name": "stdout",
     "output_type": "stream",
     "text": [
      "*         \n",
      "*         \n",
      "*     *   \n",
      "*   *     \n",
      "* *       \n",
      "*   *     \n",
      "*     *   \n"
     ]
    }
   ],
   "source": [
    "def k():\n",
    "    for row in range(7):\n",
    "        for col in range(5):\n",
    "            if (col==0) or (row>1 and (row+col==5  or row-col==3)):\n",
    "                print(\"*\",end=\" \")\n",
    "            else:\n",
    "                print(end=\"  \")\n",
    "        print()\n",
    "k()"
   ]
  },
  {
   "cell_type": "code",
   "execution_count": 12,
   "id": "several-windsor",
   "metadata": {},
   "outputs": [
    {
     "name": "stdout",
     "output_type": "stream",
     "text": [
      "*         \n",
      "*         \n",
      "*         \n",
      "*         \n",
      "*         \n",
      "*         \n",
      "* * *     \n"
     ]
    }
   ],
   "source": [
    "def l():\n",
    "    for row in range(7):\n",
    "        for col in range(5):\n",
    "            if (col==0) or (row==6 and col<3):\n",
    "                print(\"*\",end=\" \")\n",
    "            else:\n",
    "                print(end=\"  \")\n",
    "        print()\n",
    "l()"
   ]
  },
  {
   "cell_type": "code",
   "execution_count": 13,
   "id": "governing-cinema",
   "metadata": {},
   "outputs": [
    {
     "name": "stdout",
     "output_type": "stream",
     "text": [
      "* * *   * *   \n",
      "*     *     * \n",
      "*     *     * \n",
      "*     *     * \n",
      "*     *     * \n"
     ]
    }
   ],
   "source": [
    "def m():\n",
    "    for row in range(5):\n",
    "        for col in range(7):\n",
    "            if row==col==0 or (col%3==0 and row>0) or (row==0 and col%3!=0):\n",
    "                print(\"*\",end=\" \")\n",
    "            else:\n",
    "                print(end=\"  \")\n",
    "        print()\n",
    "m()"
   ]
  },
  {
   "cell_type": "code",
   "execution_count": 14,
   "id": "thirty-stereo",
   "metadata": {},
   "outputs": [
    {
     "name": "stdout",
     "output_type": "stream",
     "text": [
      "* * *   \n",
      "*     * \n",
      "*     * \n",
      "*     * \n",
      "*     * \n"
     ]
    }
   ],
   "source": [
    "def n():\n",
    "    for row in range(5):\n",
    "        for col in range(4):\n",
    "            if row==col==0 or (col%3==0 and row>0) or (row==0 and col%3!=0):\n",
    "                print(\"*\",end=\" \")\n",
    "            else:\n",
    "                print(end=\"  \")\n",
    "        print()\n",
    "n()"
   ]
  },
  {
   "cell_type": "code",
   "execution_count": 15,
   "id": "devoted-samba",
   "metadata": {},
   "outputs": [
    {
     "name": "stdout",
     "output_type": "stream",
     "text": [
      "* * *   \n",
      "*     * \n",
      "*     * \n",
      "*     * \n",
      "*     * \n"
     ]
    }
   ],
   "source": [
    "def n():\n",
    "    for row in range(5):\n",
    "        for col in range(4):\n",
    "            if row==0 and col<3 or (col%3==0 and row>0) :\n",
    "                print(\"*\",end=\" \")\n",
    "            else:\n",
    "                print(end=\"  \")\n",
    "        print()\n",
    "n()"
   ]
  },
  {
   "cell_type": "code",
   "execution_count": 18,
   "id": "synthetic-headline",
   "metadata": {},
   "outputs": [
    {
     "name": "stdout",
     "output_type": "stream",
     "text": [
      "  * * *   \n",
      "*       * \n",
      "*       * \n",
      "*       * \n",
      "*       * \n",
      "*       * \n",
      "  * * *   \n"
     ]
    }
   ],
   "source": [
    "def o():\n",
    "    for row in range(7):\n",
    "        for col in range(5):\n",
    "            if ((col==0 or col==4) and (row!=0 and row!=6)) or (col>0 and col<4) and (row==0 or row==6):\n",
    "                print(\"*\",end=\" \")\n",
    "            else:\n",
    "                print(end=\"  \")\n",
    "        print()\n",
    "o()"
   ]
  },
  {
   "cell_type": "code",
   "execution_count": 19,
   "id": "handed-trauma",
   "metadata": {},
   "outputs": [
    {
     "name": "stdout",
     "output_type": "stream",
     "text": [
      "* * * *   \n",
      "*       * \n",
      "*       * \n",
      "* * * *   \n",
      "*         \n",
      "*         \n",
      "*         \n"
     ]
    }
   ],
   "source": [
    "def p():\n",
    "    for row in range(7):\n",
    "        for col in range(5):\n",
    "            if col==0 or (col==4 and (row==1 or row==2)) or ((row==0 or row==3) and (col>0 and col<4)):\n",
    "                print(\"*\",end=\" \")\n",
    "            else:\n",
    "                    print(end=\"  \")\n",
    "        print()\n",
    "p()"
   ]
  },
  {
   "cell_type": "code",
   "execution_count": 20,
   "id": "inappropriate-buyer",
   "metadata": {},
   "outputs": [
    {
     "name": "stdout",
     "output_type": "stream",
     "text": [
      "  * * * *   \n",
      "*       *   \n",
      "*       *   \n",
      "  * * * *   \n",
      "        *   \n",
      "        * * \n",
      "        *   \n"
     ]
    }
   ],
   "source": [
    "def q():\n",
    "    for row in range(7):\n",
    "        for col in range(6):\n",
    "            if col==4 or (col==0 and (row==1 or row==2)) or ((row==0 or row==3) and (col>0 and col<4)) or (row==5 and col==5):\n",
    "                print(\"*\",end=\" \")\n",
    "            else:\n",
    "                    print(end=\"  \")\n",
    "        print()\n",
    "q()"
   ]
  },
  {
   "cell_type": "code",
   "execution_count": 21,
   "id": "proof-senegal",
   "metadata": {},
   "outputs": [
    {
     "name": "stdout",
     "output_type": "stream",
     "text": [
      "*     * * * \n",
      "    *       \n",
      "    *       \n",
      "    *       \n",
      "    *       \n",
      "    *       \n",
      "    *       \n"
     ]
    }
   ],
   "source": [
    "def r():\n",
    "    for row in range(7):\n",
    "        for col in range(6):\n",
    "            if (col==2 and row>0) or (row<1 and col>2) or row==col==0:\n",
    "                print(\"*\",end=\" \")\n",
    "            else:\n",
    "                print(end=\"  \")\n",
    "        print()\n",
    "r()"
   ]
  },
  {
   "cell_type": "code",
   "execution_count": 22,
   "id": "registered-biology",
   "metadata": {},
   "outputs": [
    {
     "name": "stdout",
     "output_type": "stream",
     "text": [
      "  * * *   \n",
      "*         \n",
      "*         \n",
      "  * * *   \n",
      "        * \n",
      "        * \n",
      "  * * *   \n"
     ]
    }
   ],
   "source": [
    "def s():\n",
    "    for row in range(7):\n",
    "        for col in range(5):\n",
    "            if (row%3==0) and (col>0 and col<4) or (col==0 and (row>0 and row<3)) or (col==4 and (row>3 and row<6)):\n",
    "                print(\"*\",end=\" \")\n",
    "            else:\n",
    "                print(end=\"  \")\n",
    "        print()\n",
    "s()"
   ]
  },
  {
   "cell_type": "code",
   "execution_count": 23,
   "id": "brutal-import",
   "metadata": {},
   "outputs": [
    {
     "name": "stdout",
     "output_type": "stream",
     "text": [
      "  *     \n",
      "  *     \n",
      "* * * * \n",
      "  *     \n",
      "  *     \n",
      "  *     \n",
      "    * * \n"
     ]
    }
   ],
   "source": [
    "def t():\n",
    "    for row in range(7):\n",
    "        for col in range(4):\n",
    "            if (row==2 and col<4) or (col==1 and row<6) or (row==6 and col>1):\n",
    "                print(\"*\",end=\" \")\n",
    "            else:\n",
    "                print(end=\"  \")\n",
    "        print()\n",
    "t()"
   ]
  },
  {
   "cell_type": "code",
   "execution_count": 24,
   "id": "contained-episode",
   "metadata": {},
   "outputs": [
    {
     "name": "stdout",
     "output_type": "stream",
     "text": [
      "*       *   \n",
      "*       *   \n",
      "*       *   \n",
      "*       *   \n",
      "*       *   \n",
      "  * * *   * \n",
      "            \n"
     ]
    }
   ],
   "source": [
    "def u():\n",
    "    for row in range(7):\n",
    "        for col in range(6):\n",
    "            if ((col==0 or col==4) and row<5) or (row==5 and col>0 and col<4) or  (row+col==10) and row!=6:\n",
    "                print(\"*\",end=\" \")\n",
    "            else:\n",
    "                print(end=\"  \")\n",
    "        print()\n",
    "u()"
   ]
  },
  {
   "cell_type": "code",
   "execution_count": 25,
   "id": "vulnerable-lancaster",
   "metadata": {},
   "outputs": [
    {
     "name": "stdout",
     "output_type": "stream",
     "text": [
      "*             * \n",
      " *           *  \n",
      "  *         *   \n",
      "   *       *    \n",
      "    *     *     \n",
      "     *   *      \n",
      "      * *       \n",
      "       *        \n"
     ]
    }
   ],
   "source": [
    "def v():\n",
    "    for row in range(8):\n",
    "        for col in range(16):\n",
    "            if (row-col==0 or row+col==14):\n",
    "                print(\"*\",end=\"\")\n",
    "            else:\n",
    "                print(end=\" \")\n",
    "        print()\n",
    "v()"
   ]
  },
  {
   "cell_type": "code",
   "execution_count": 26,
   "id": "intelligent-pasta",
   "metadata": {},
   "outputs": [
    {
     "name": "stdout",
     "output_type": "stream",
     "text": [
      "*     *     * \n",
      "*     *     * \n",
      "*     *     * \n",
      "*     *     * \n",
      "*     *     * \n",
      "  * *   * *   \n"
     ]
    }
   ],
   "source": [
    "def w():\n",
    "    for row in range(6):\n",
    "        for col in range(7):\n",
    "            if (col%3==0 and row<5) or (row==5 and col%3!=0):\n",
    "                print(\"*\",end=\" \")\n",
    "            else:\n",
    "                print(end=\"  \")\n",
    "        print()\n",
    "w()"
   ]
  },
  {
   "cell_type": "code",
   "execution_count": 27,
   "id": "appropriate-spirituality",
   "metadata": {},
   "outputs": [
    {
     "name": "stdout",
     "output_type": "stream",
     "text": [
      "*       * \n",
      "  *   *   \n",
      "    *     \n",
      "  *   *   \n",
      "*       * \n"
     ]
    }
   ],
   "source": [
    "def x():\n",
    "    for row in range(5):\n",
    "        for col in range(5):\n",
    "            if (row-col==0 or row+col==4):\n",
    "                print(\"*\",end=\" \")\n",
    "            else:\n",
    "                print(end=\"  \")\n",
    "        print()\n",
    "x()"
   ]
  },
  {
   "cell_type": "code",
   "execution_count": 28,
   "id": "bright-worship",
   "metadata": {},
   "outputs": [
    {
     "name": "stdout",
     "output_type": "stream",
     "text": [
      "          \n",
      "*       * \n",
      "*       * \n",
      "  * * * * \n",
      "        * \n",
      "*       * \n",
      "  * * *   \n"
     ]
    }
   ],
   "source": [
    "def y():\n",
    "    for row in range(7):\n",
    "        for col in range(5):\n",
    "            if (row%3==0 and row!=0) and (col>0 and col<4) or (col==0 and (row>0 and row<3)) or (col==4 and (row>0 and row<6)) or (row==5 and col==0):\n",
    "                print(\"*\",end=\" \")\n",
    "            else:\n",
    "                print(end=\"  \")\n",
    "        print()\n",
    "y()"
   ]
  },
  {
   "cell_type": "code",
   "execution_count": 29,
   "id": "hired-feelings",
   "metadata": {},
   "outputs": [
    {
     "name": "stdout",
     "output_type": "stream",
     "text": [
      "* * * * * \n",
      "      *   \n",
      "    *     \n",
      "  *       \n",
      "* * * * * \n"
     ]
    }
   ],
   "source": [
    "def z():\n",
    "    for row in range(5):\n",
    "        for col in range(5):\n",
    "            if row==0 or row==4 or row+col==4 :\n",
    "                print(\"*\",end=\" \")\n",
    "            else:\n",
    "                print(end=\"  \")\n",
    "        print()\n",
    "z()"
   ]
  }
 ],
 "metadata": {
  "kernelspec": {
   "display_name": "Python 3",
   "language": "python",
   "name": "python3"
  },
  "language_info": {
   "codemirror_mode": {
    "name": "ipython",
    "version": 3
   },
   "file_extension": ".py",
   "mimetype": "text/x-python",
   "name": "python",
   "nbconvert_exporter": "python",
   "pygments_lexer": "ipython3",
   "version": "3.9.0"
  }
 },
 "nbformat": 4,
 "nbformat_minor": 5
}
