{
 "cells": [
  {
   "cell_type": "code",
   "execution_count": 1,
   "id": "demanding-idaho",
   "metadata": {},
   "outputs": [
    {
     "name": "stdout",
     "output_type": "stream",
     "text": [
      "   😀 😀    😀 😀    \n",
      "😀       😀       😀 \n",
      "😀                😀 \n",
      "   😀          😀    \n",
      "      😀    😀       \n",
      "         😀          \n"
     ]
    }
   ],
   "source": [
    "def Heart():\n",
    "    for row in range(6):\n",
    "        for col in range(7):\n",
    "            if row==0 and col%3!=0 or row==1 and col%3==0 or row-col==2 or row+col==8:\n",
    "                print(\"\\U0001f600\",end=' ')\n",
    "            else:\n",
    "                print(\"  \",end=' ')\n",
    "        print()\n",
    "Heart()"
   ]
  },
  {
   "cell_type": "code",
   "execution_count": 2,
   "id": "numerous-marina",
   "metadata": {},
   "outputs": [
    {
     "name": "stdout",
     "output_type": "stream",
     "text": [
      "  * *   * *   \n",
      "*     *     * \n",
      "*           * \n",
      "  *       *   \n",
      "    *   *     \n",
      "      *       \n"
     ]
    }
   ],
   "source": [
    "def heart():\n",
    "    for row in range(6):\n",
    "        for col in range(7):\n",
    "            if row==0 and col%3!=0 or row==1 and col%3==0 or row-col==2 or row+col==8:\n",
    "                print(\"*\",end=\" \")\n",
    "            else:\n",
    "                print(end=\"  \")\n",
    "        print()\n",
    "heart()"
   ]
  },
  {
   "cell_type": "code",
   "execution_count": 3,
   "id": "floral-swedish",
   "metadata": {},
   "outputs": [
    {
     "name": "stdout",
     "output_type": "stream",
     "text": [
      "          *           \n",
      "        *   *         \n",
      "      *       *       \n",
      "    *           *     \n",
      "  *               *   \n",
      "* * * * * * * * * * * \n"
     ]
    }
   ],
   "source": [
    "def triangle():\n",
    "    for row in range(6):\n",
    "        for col in range(11):\n",
    "            if (row==5) or (col-row==5 or row+col==5):\n",
    "                print(\"*\",end=\" \")\n",
    "            else:\n",
    "                print(end=\"  \")\n",
    "        print()\n",
    "triangle()"
   ]
  },
  {
   "cell_type": "code",
   "execution_count": 4,
   "id": "dedicated-copying",
   "metadata": {},
   "outputs": [
    {
     "name": "stdout",
     "output_type": "stream",
     "text": [
      "* * * * * * * * * * * \n",
      "  *               *   \n",
      "    *           *     \n",
      "      *       *       \n",
      "        *   *         \n",
      "          *           \n"
     ]
    }
   ],
   "source": [
    "def reverse_triangle():\n",
    "    for row in range(6):\n",
    "        for col in range(11):\n",
    "            if (row==0) or (row-col==0 or row+col==10):\n",
    "                print(\"*\",end=\" \")\n",
    "            else:\n",
    "                print(end=\"  \")\n",
    "        print()\n",
    "reverse_triangle()"
   ]
  },
  {
   "cell_type": "code",
   "execution_count": 5,
   "id": "composite-anime",
   "metadata": {},
   "outputs": [
    {
     "name": "stdout",
     "output_type": "stream",
     "text": [
      "*           \n",
      "* *         \n",
      "*   *       \n",
      "*     *     \n",
      "*       *   \n",
      "* * * * * * \n"
     ]
    }
   ],
   "source": [
    "def left_triangle():\n",
    "    for row in range(6):\n",
    "        for col in range(6):\n",
    "            if (col==0 or row==5) or row-col==0:\n",
    "                print(\"*\",end=\" \")\n",
    "            else:\n",
    "                print(end=\"  \")\n",
    "        print()\n",
    "left_triangle()"
   ]
  },
  {
   "cell_type": "code",
   "execution_count": 6,
   "id": "orange-treasurer",
   "metadata": {},
   "outputs": [
    {
     "name": "stdout",
     "output_type": "stream",
     "text": [
      "          * \n",
      "        * * \n",
      "      *   * \n",
      "    *     * \n",
      "  *       * \n",
      "* * * * * * \n"
     ]
    }
   ],
   "source": [
    "def right_triangle():\n",
    "    for row in range(6):\n",
    "        for col in range(6):\n",
    "            if (col==5 or row==5) or row+col==5:\n",
    "                print(\"*\",end=\" \")\n",
    "            else:\n",
    "                print(end=\"  \")\n",
    "        print()\n",
    "right_triangle()"
   ]
  },
  {
   "cell_type": "code",
   "execution_count": 7,
   "id": "alone-qualification",
   "metadata": {},
   "outputs": [
    {
     "name": "stdout",
     "output_type": "stream",
     "text": [
      "* * * * * * \n",
      "  *       * \n",
      "    *     * \n",
      "      *   * \n",
      "        * * \n",
      "          * \n"
     ]
    }
   ],
   "source": [
    "def right_reverse_triangle(): \n",
    "    for row in range(6):\n",
    "        for col in range(6):\n",
    "            if (col==5 or row==0) or row-col==0:\n",
    "                print(\"*\",end=\" \")\n",
    "            else:\n",
    "                print(end=\"  \")\n",
    "        print()\n",
    "right_reverse_triangle()\n",
    "    "
   ]
  },
  {
   "cell_type": "code",
   "execution_count": 8,
   "id": "ordinary-chapter",
   "metadata": {},
   "outputs": [
    {
     "name": "stdout",
     "output_type": "stream",
     "text": [
      "* * * * * * \n",
      "*       *   \n",
      "*     *     \n",
      "*   *       \n",
      "* *         \n",
      "*           \n"
     ]
    }
   ],
   "source": [
    "def left_reverse_triangle():\n",
    "    for row in range(6):\n",
    "        for col in range(6):\n",
    "            if (col==0 or row==0) or row+col==5:\n",
    "                print(\"*\",end=\" \")\n",
    "            else:\n",
    "                print(end=\"  \")\n",
    "        print()\n",
    "left_reverse_triangle()"
   ]
  },
  {
   "cell_type": "code",
   "execution_count": 9,
   "id": "current-ordinary",
   "metadata": {},
   "outputs": [
    {
     "name": "stdout",
     "output_type": "stream",
     "text": [
      "* * * * * * * \n",
      "*           * \n",
      "*           * \n",
      "*           * \n",
      "*           * \n",
      "*           * \n",
      "* * * * * * * \n"
     ]
    }
   ],
   "source": [
    "def squear():\n",
    "    for row in range(7):\n",
    "        for col in range(7):\n",
    "            if row==0 or row==6 or col==0 or col==6:\n",
    "                print(\"*\",end=\" \")\n",
    "            else:\n",
    "                print(end=\"  \")\n",
    "        print()\n",
    "squear()"
   ]
  },
  {
   "cell_type": "code",
   "execution_count": 10,
   "id": "loved-collection",
   "metadata": {},
   "outputs": [
    {
     "name": "stdout",
     "output_type": "stream",
     "text": [
      "* * * * * * * * * * \n",
      "*                 * \n",
      "*                 * \n",
      "*                 * \n",
      "* * * * * * * * * * \n"
     ]
    }
   ],
   "source": [
    "def rectangle():\n",
    "    for row in range(5):\n",
    "        for col in range(10):\n",
    "            if row==0 or row==4 or col==0 or col==9:\n",
    "                print(\"*\",end=\" \")\n",
    "            else:\n",
    "                print(end=\"  \")\n",
    "        print()\n",
    "rectangle()"
   ]
  },
  {
   "cell_type": "code",
   "execution_count": 11,
   "id": "forward-census",
   "metadata": {},
   "outputs": [
    {
     "name": "stdout",
     "output_type": "stream",
     "text": [
      "        *         \n",
      "      *   *       \n",
      "    *       *     \n",
      "  *           *   \n",
      "*               * \n",
      "*               * \n",
      "*               * \n",
      "*               * \n",
      "*               * \n",
      "* * * * * * * * * \n"
     ]
    }
   ],
   "source": [
    "def pentagon():\n",
    "    for row in range(10):\n",
    "        for col in range(9):\n",
    "            if (row==9) or (row>4 and (col==0 or col==8)) or (row+col==4 or col-row==4):\n",
    "                print(\"*\",end=\" \")\n",
    "            else:\n",
    "                print(end=\"  \")\n",
    "        print()\n",
    "pentagon()"
   ]
  },
  {
   "cell_type": "code",
   "execution_count": 12,
   "id": "conscious-assumption",
   "metadata": {},
   "outputs": [
    {
     "name": "stdout",
     "output_type": "stream",
     "text": [
      "            * * * * * * * * * * * * * * * \n",
      "          *                           *   \n",
      "        *                           *     \n",
      "      *                           *       \n",
      "    *                           *         \n",
      "  *                           *           \n",
      "* * * * * * * * * * * * * * *             \n"
     ]
    }
   ],
   "source": [
    "def parlalogram():\n",
    "    for row in range(7):\n",
    "        for col in range(21):\n",
    "            if ((row==0  and col>5) or (row==6 and col<14) or (row+col==6)) or row+col==20:\n",
    "                print(\"*\",end=\" \")\n",
    "            else:\n",
    "                print(end=\"  \")\n",
    "        print()\n",
    "parlalogram()"
   ]
  },
  {
   "cell_type": "code",
   "execution_count": 13,
   "id": "latest-month",
   "metadata": {},
   "outputs": [
    {
     "name": "stdout",
     "output_type": "stream",
     "text": [
      "        * * * * * * * * *     \n",
      "      *                   *   \n",
      "    *                       * \n",
      "      *                   *   \n",
      "        * * * * * * * * *     \n"
     ]
    }
   ],
   "source": [
    "def hexagon():\n",
    "    for row in range(5):\n",
    "        for col in range(15):\n",
    "            if (row==0 and col>3 and col<13) or (row==4 and col>3 and col<13 ) or (((row<=2) and row+col==4) or (row>2 and col-row==0)) or  (row<=2 and col-row==12) or (row>2 and row+col==16):\n",
    "                print(\"*\",end=\" \")\n",
    "            else:\n",
    "                print(end=\"  \")\n",
    "        print()\n",
    "hexagon()"
   ]
  },
  {
   "cell_type": "code",
   "execution_count": 14,
   "id": "false-delicious",
   "metadata": {},
   "outputs": [
    {
     "name": "stdout",
     "output_type": "stream",
     "text": [
      "        * * * * * * * * *     \n",
      "      *                   *   \n",
      "    *                       * \n",
      "      *                   *   \n",
      "        * * * * * * * * *     \n"
     ]
    }
   ],
   "source": [
    "def hexagon():\n",
    "    for row in range(5):\n",
    "        for col in range(15):\n",
    "            if ((row==0 or row==4) and col>3 and col<13) or (((row<=2) and row+col==4) or (row>2 and col-row==0)) or  (row<=2 and col-row==12) or (row>2 and row+col==16):\n",
    "                print(\"*\",end=\" \")\n",
    "            else:\n",
    "                print(end=\"  \")\n",
    "        print()\n",
    "hexagon()"
   ]
  },
  {
   "cell_type": "code",
   "execution_count": 16,
   "id": "completed-blogger",
   "metadata": {},
   "outputs": [
    {
     "name": "stdout",
     "output_type": "stream",
     "text": [
      "\n",
      "1 \n",
      "2 2 \n",
      "3 3 3 \n",
      "4 4 4 4 \n",
      "5 5 5 5 5 \n",
      "6 6 6 6 6 6 \n",
      "7 7 7 7 7 7 7 \n",
      "8 8 8 8 8 8 8 8 \n",
      "9 9 9 9 9 9 9 9 9 \n"
     ]
    }
   ],
   "source": [
    "def left_num_tri():\n",
    "    for i in range(10):\n",
    "        for j in range(i):\n",
    "            print(i, end=\" \")\n",
    "        print()\n",
    "left_num_tri()"
   ]
  },
  {
   "cell_type": "code",
   "execution_count": 17,
   "id": "constitutional-leave",
   "metadata": {},
   "outputs": [
    {
     "name": "stdout",
     "output_type": "stream",
     "text": [
      "1 \n",
      "1 2 \n",
      "1 2 3 \n",
      "1 2 3 4 \n",
      "1 2 3 4 5 \n",
      "1 2 3 4 5 6 \n",
      "1 2 3 4 5 6 7 \n"
     ]
    }
   ],
   "source": [
    "a=8\n",
    "def left_num_tri_1():\n",
    "    for i in range(1, a):\n",
    "        for j in range(1, i+1):\n",
    "            print(j, end=\" \")\n",
    "        print()\n",
    "left_num_tri_1()"
   ]
  },
  {
   "cell_type": "code",
   "execution_count": 18,
   "id": "computational-newton",
   "metadata": {},
   "outputs": [
    {
     "name": "stdout",
     "output_type": "stream",
     "text": [
      "1 \n",
      "2 1 \n",
      "3 2 1 \n",
      "4 3 2 1 \n",
      "5 4 3 2 1 \n",
      "6 5 4 3 2 1 \n",
      "7 6 5 4 3 2 1 \n",
      "8 7 6 5 4 3 2 1 \n"
     ]
    }
   ],
   "source": [
    "a=8\n",
    "def left_num_tri_2():\n",
    "    for i in range(0, a):\n",
    "        for j in range(i+1,0,-1):\n",
    "            print(j, end=\" \")\n",
    "        print()\n",
    "left_num_tri_2()"
   ]
  },
  {
   "cell_type": "code",
   "execution_count": 19,
   "id": "descending-trinidad",
   "metadata": {},
   "outputs": [
    {
     "name": "stdout",
     "output_type": "stream",
     "text": [
      "9 9 9 9 9 9 9 9 9 \n",
      "8 8 8 8 8 8 8 8 \n",
      "7 7 7 7 7 7 7 \n",
      "6 6 6 6 6 6 \n",
      "5 5 5 5 5 \n",
      "4 4 4 4 \n",
      "3 3 3 \n",
      "2 2 \n",
      "1 \n"
     ]
    }
   ],
   "source": [
    "def reverse_left_num_tri():\n",
    "    for i in range(9, 0, -1):\n",
    "        for j in range(i):\n",
    "            print(i, end=\" \")\n",
    "        print()\n",
    "reverse_left_num_tri()"
   ]
  },
  {
   "cell_type": "code",
   "execution_count": 20,
   "id": "informed-dragon",
   "metadata": {},
   "outputs": [
    {
     "name": "stdout",
     "output_type": "stream",
     "text": [
      "      1 \n",
      "    1 2 \n",
      "  1 2 3 \n",
      "1 2 3 4 \n"
     ]
    }
   ],
   "source": [
    "n=4\n",
    "def var_5(): \n",
    "    for i in range(1, n+1):\n",
    "        for j in range(1, n-i+1):\n",
    "            print(\" \",end=\" \")\n",
    "        for k in range(1,i+1):\n",
    "            print(k, end=\" \")\n",
    "        print()\n",
    "var_5()"
   ]
  },
  {
   "cell_type": "code",
   "execution_count": 21,
   "id": "beautiful-release",
   "metadata": {},
   "outputs": [
    {
     "name": "stdout",
     "output_type": "stream",
     "text": [
      "        1 \n",
      "      1 2 1 \n",
      "    1 2 3 2 1 \n",
      "  1 2 3 4 3 2 1 \n",
      "1 2 3 4 5 4 3 2 1 \n"
     ]
    }
   ],
   "source": [
    "n=5\n",
    "def num_tree_1(): \n",
    "    for i in range(1,n+1):\n",
    "        for j in range(1, n-i+1):\n",
    "            print(\" \", end=\" \")\n",
    "        for k in range(1,i+1):\n",
    "            print(k, end=\" \")\n",
    "        for m in range(i-1, 0, -1):\n",
    "            print(m, end=\" \")\n",
    "        print()\n",
    "num_tree_1()"
   ]
  },
  {
   "cell_type": "code",
   "execution_count": 22,
   "id": "central-cyprus",
   "metadata": {},
   "outputs": [
    {
     "name": "stdout",
     "output_type": "stream",
     "text": [
      "                1 \n",
      "              2 1 \n",
      "            3 2 1 \n",
      "          4 3 2 1 \n",
      "        5 4 3 2 1 \n",
      "      6 5 4 3 2 1 \n",
      "    7 6 5 4 3 2 1 \n",
      "  8 7 6 5 4 3 2 1 \n",
      "9 8 7 6 5 4 3 2 1 \n"
     ]
    }
   ],
   "source": [
    "n=9\n",
    "def right_num_tri():\n",
    "    for i in range(1, n+1):\n",
    "        for j in range(1, n-i+1):\n",
    "            print(\" \",end=\" \")\n",
    "        for k in range(i, 0, -1):\n",
    "            print(k, end=\" \")\n",
    "        print()\n",
    "right_num_tri()"
   ]
  },
  {
   "cell_type": "code",
   "execution_count": 23,
   "id": "coordinate-source",
   "metadata": {},
   "outputs": [
    {
     "name": "stdout",
     "output_type": "stream",
     "text": [
      "        1 \n",
      "      2 1 2 \n",
      "    3 2 1 2 3 \n",
      "  4 3 2 1 2 3 4 \n",
      "5 4 3 2 1 2 3 4 5 \n"
     ]
    }
   ],
   "source": [
    "n=5\n",
    "def num_tree(): \n",
    "    for i in range(1,n+1):\n",
    "        for j in range(1, n-i+1):\n",
    "            print(\" \", end=\" \")\n",
    "        for k in range(i, 0, -1):\n",
    "            print(k, end=\" \")\n",
    "        for m in range(2, i+1):\n",
    "            print(m, end=\" \")\n",
    "        print()\n",
    "num_tree()"
   ]
  }
 ],
 "metadata": {
  "kernelspec": {
   "display_name": "Python 3",
   "language": "python",
   "name": "python3"
  },
  "language_info": {
   "codemirror_mode": {
    "name": "ipython",
    "version": 3
   },
   "file_extension": ".py",
   "mimetype": "text/x-python",
   "name": "python",
   "nbconvert_exporter": "python",
   "pygments_lexer": "ipython3",
   "version": "3.9.0"
  }
 },
 "nbformat": 4,
 "nbformat_minor": 5
}
