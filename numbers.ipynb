{
 "cells": [
  {
   "cell_type": "code",
   "execution_count": 1,
   "id": "acceptable-consciousness",
   "metadata": {},
   "outputs": [
    {
     "name": "stdout",
     "output_type": "stream",
     "text": [
      "  * * *   \n",
      "*       * \n",
      "*     * * \n",
      "*   *   * \n",
      "* *     * \n",
      "*       * \n",
      "  * * *   \n"
     ]
    }
   ],
   "source": [
    "def _O():\n",
    "    for row in range(7):\n",
    "        for col in range(5):\n",
    "            if ((col==0 or col==4) and (row!=0 and row!=6)) or (col>0 and col<4) and (row==0 or row==6) or (row+col==5):\n",
    "                print(\"*\",end=\" \")\n",
    "            else:\n",
    "                print(end=\"  \")\n",
    "        print()\n",
    "_O()"
   ]
  },
  {
   "cell_type": "code",
   "execution_count": 2,
   "id": "light-republican",
   "metadata": {},
   "outputs": [
    {
     "name": "stdout",
     "output_type": "stream",
     "text": [
      "  **   \n",
      " * *   \n",
      "*  *   \n",
      "   *   \n",
      "   *   \n",
      "   *   \n",
      "*******\n"
     ]
    }
   ],
   "source": [
    "def _1():\n",
    "    for row in range(7):\n",
    "        for col in range(7):\n",
    "            if (col==3 or row==6) or (row<3 and row+col==2):\n",
    "                print(\"*\",end=\"\")\n",
    "            else:\n",
    "                print(end=\" \")\n",
    "        print()\n",
    "_1()"
   ]
  },
  {
   "cell_type": "code",
   "execution_count": 3,
   "id": "graduate-taiwan",
   "metadata": {},
   "outputs": [
    {
     "name": "stdout",
     "output_type": "stream",
     "text": [
      "  * * * \n",
      "*     * \n",
      "    *   \n",
      "  *     \n",
      "* * * * \n"
     ]
    }
   ],
   "source": [
    "def _2():\n",
    "    for row in range(5):\n",
    "        for col in range(4):\n",
    "            if (row==4 or row+col==4)  or (row==0 and col!=0) or (row==1 and col<1):\n",
    "                print(\"*\",end=\" \")\n",
    "            else:\n",
    "                print(end=\"  \")\n",
    "        print()\n",
    "_2()"
   ]
  },
  {
   "cell_type": "code",
   "execution_count": 4,
   "id": "excellent-jefferson",
   "metadata": {},
   "outputs": [
    {
     "name": "stdout",
     "output_type": "stream",
     "text": [
      "* * * * *   \n",
      "          * \n",
      "          * \n",
      "* * * * *   \n",
      "          * \n",
      "          * \n",
      "* * * * *   \n"
     ]
    }
   ],
   "source": [
    "def _3():\n",
    "    for row in range(7):\n",
    "        for col in range(6):\n",
    "            if (row%3==0 and col<5) or (col==5 and row%3!=0):\n",
    "                print(\"*\",end=\" \")\n",
    "            else:\n",
    "                print(end=\"  \")\n",
    "        print()\n",
    "_3()"
   ]
  },
  {
   "cell_type": "code",
   "execution_count": 5,
   "id": "presidential-saturn",
   "metadata": {},
   "outputs": [
    {
     "name": "stdout",
     "output_type": "stream",
     "text": [
      "      *   \n",
      "    * *   \n",
      "  *   *   \n",
      "*     *   \n",
      "* * * * * \n",
      "      *   \n",
      "      *   \n"
     ]
    }
   ],
   "source": [
    "def _4():\n",
    "    for i in range(7):\n",
    "        for j in range(5):\n",
    "            if (j==3 or i==4 or i+j==3):\n",
    "                print('*', end = ' ')\n",
    "            else:\n",
    "                print(' ', end = ' ')\n",
    "        print()\n",
    "_4()"
   ]
  },
  {
   "cell_type": "code",
   "execution_count": 6,
   "id": "equipped-blink",
   "metadata": {},
   "outputs": [
    {
     "name": "stdout",
     "output_type": "stream",
     "text": [
      "* * * *   \n",
      "*         \n",
      "*         \n",
      "* * * *   \n",
      "        * \n",
      "        * \n",
      "* * * *   \n"
     ]
    }
   ],
   "source": [
    "def _5():\n",
    "    for row in range(7):\n",
    "        for col in range(5):\n",
    "            if (row%3==0) and (col>=0 and col<4) or (col==0 and (row>=0 and row<=3)) or (col==4 and (row>3 and row<6)):\n",
    "                print(\"*\",end=\" \")\n",
    "            else:\n",
    "                print(end=\"  \")\n",
    "        print()\n",
    "_5()"
   ]
  },
  {
   "cell_type": "code",
   "execution_count": 7,
   "id": "prescription-webster",
   "metadata": {},
   "outputs": [
    {
     "name": "stdout",
     "output_type": "stream",
     "text": [
      "  * * *   \n",
      "*         \n",
      "*         \n",
      "* * * *   \n",
      "*       * \n",
      "*       * \n",
      "  * * *   \n"
     ]
    }
   ],
   "source": [
    "def _6():\n",
    "    for row in range(7):\n",
    "        for col in range(5):\n",
    "            if (row%3==0) and (col>0 and col<4) or (col==0 and (row>0 and row<6)) or (col==4 and (row>3 and row<6)):\n",
    "                print(\"*\",end=\" \")\n",
    "            else:\n",
    "                print(end=\"  \")\n",
    "        print()\n",
    "_6()"
   ]
  },
  {
   "cell_type": "code",
   "execution_count": 9,
   "id": "special-politics",
   "metadata": {},
   "outputs": [
    {
     "name": "stdout",
     "output_type": "stream",
     "text": [
      "* * * * * * \n",
      "        *   \n",
      "      *     \n",
      "    *       \n",
      "  *         \n",
      "*           \n"
     ]
    }
   ],
   "source": [
    "def _7():\n",
    "    for row in range(6):\n",
    "        for col in range(6):\n",
    "            if (row==0 or row+col==5):\n",
    "                print(\"*\",end=\" \")\n",
    "            else:\n",
    "                print(end=\"  \")\n",
    "        print()\n",
    "_7()"
   ]
  },
  {
   "cell_type": "code",
   "execution_count": 10,
   "id": "strange-secondary",
   "metadata": {},
   "outputs": [
    {
     "name": "stdout",
     "output_type": "stream",
     "text": [
      "  * * *   \n",
      "*       * \n",
      "*       * \n",
      "  * * *   \n",
      "*       * \n",
      "*       * \n",
      "  * * *   \n"
     ]
    }
   ],
   "source": [
    "def _8():\n",
    "    for row in range(7):\n",
    "        for col in range(5):\n",
    "            if ((col==0 and row%3!=0) or (col==4 and row%3!=0)) or ((row==0 or row==3 or row==6) and (col>0 and col<4)):\n",
    "                print(\"*\",end=\" \")\n",
    "            else:\n",
    "                print(end=\"  \")\n",
    "        print()\n",
    "_8()"
   ]
  },
  {
   "cell_type": "code",
   "execution_count": 11,
   "id": "prime-dream",
   "metadata": {},
   "outputs": [
    {
     "name": "stdout",
     "output_type": "stream",
     "text": [
      "  * * *   \n",
      "*       * \n",
      "*       * \n",
      "  * * * * \n",
      "        * \n",
      "        * \n",
      "  * * *   \n"
     ]
    }
   ],
   "source": [
    "def _9():\n",
    "    for row in range(7):\n",
    "        for col in range(5):\n",
    "            if (row%3==0) and (col>0 and col<4) or (col==0 and (row>0 and row<3)) or (col==4 and (row>0 and row<6)):\n",
    "                print(\"*\",end=\" \")\n",
    "            else:\n",
    "                print(end=\"  \")\n",
    "        print()\n",
    "_9()"
   ]
  }
 ],
 "metadata": {
  "kernelspec": {
   "display_name": "Python 3",
   "language": "python",
   "name": "python3"
  },
  "language_info": {
   "codemirror_mode": {
    "name": "ipython",
    "version": 3
   },
   "file_extension": ".py",
   "mimetype": "text/x-python",
   "name": "python",
   "nbconvert_exporter": "python",
   "pygments_lexer": "ipython3",
   "version": "3.9.0"
  }
 },
 "nbformat": 4,
 "nbformat_minor": 5
}
